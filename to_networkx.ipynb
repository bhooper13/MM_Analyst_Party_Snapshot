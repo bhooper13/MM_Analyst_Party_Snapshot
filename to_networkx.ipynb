{
 "cells": [
  {
   "cell_type": "markdown",
   "id": "de25166a",
   "metadata": {
    "toc": true
   },
   "source": [
    "<h1>Table of Contents<span class=\"tocSkip\"></span></h1>\n",
    "<div class=\"toc\"><ul class=\"toc-item\"></ul></div>"
   ]
  },
  {
   "cell_type": "code",
   "execution_count": 4,
   "id": "8f55ef9c",
   "metadata": {
    "ExecuteTime": {
     "end_time": "2023-02-23T22:26:50.163542Z",
     "start_time": "2023-02-23T22:26:44.445856Z"
    }
   },
   "outputs": [
    {
     "name": "stdout",
     "output_type": "stream",
     "text": [
      "Requirement already satisfied: networkx in c:\\python311\\lib\\site-packages (3.0)"
     ]
    },
    {
     "name": "stderr",
     "output_type": "stream",
     "text": [
      "\n",
      "[notice] A new release of pip available: 22.3 -> 23.0.1\n",
      "[notice] To update, run: python.exe -m pip install --upgrade pip\n"
     ]
    },
    {
     "name": "stdout",
     "output_type": "stream",
     "text": [
      "\n"
     ]
    }
   ],
   "source": [
    "!pip install networkx"
   ]
  },
  {
   "cell_type": "code",
   "execution_count": 5,
   "id": "cdf3d283",
   "metadata": {
    "ExecuteTime": {
     "end_time": "2023-02-23T22:26:57.727675Z",
     "start_time": "2023-02-23T22:26:57.674524Z"
    }
   },
   "outputs": [
    {
     "ename": "ModuleNotFoundError",
     "evalue": "No module named 'networkx'",
     "output_type": "error",
     "traceback": [
      "\u001b[1;31m---------------------------------------------------------------------------\u001b[0m",
      "\u001b[1;31mModuleNotFoundError\u001b[0m                       Traceback (most recent call last)",
      "\u001b[1;32m~\\AppData\\Local\\Temp\\ipykernel_43128\\1143227671.py\u001b[0m in \u001b[0;36m<module>\u001b[1;34m\u001b[0m\n\u001b[0;32m      1\u001b[0m \u001b[1;32mimport\u001b[0m \u001b[0mpandas\u001b[0m \u001b[1;32mas\u001b[0m \u001b[0mpd\u001b[0m\u001b[1;33m\u001b[0m\u001b[1;33m\u001b[0m\u001b[0m\n\u001b[0;32m      2\u001b[0m \u001b[1;32mimport\u001b[0m \u001b[0mmatplotlib\u001b[0m\u001b[1;33m.\u001b[0m\u001b[0mpyplot\u001b[0m \u001b[1;32mas\u001b[0m \u001b[0mplt\u001b[0m\u001b[1;33m\u001b[0m\u001b[1;33m\u001b[0m\u001b[0m\n\u001b[1;32m----> 3\u001b[1;33m \u001b[1;32mimport\u001b[0m \u001b[0mnetworkx\u001b[0m \u001b[1;32mas\u001b[0m \u001b[0mnx\u001b[0m\u001b[1;33m\u001b[0m\u001b[1;33m\u001b[0m\u001b[0m\n\u001b[0m\u001b[0;32m      4\u001b[0m \u001b[1;32mimport\u001b[0m \u001b[0mnetworkx\u001b[0m\u001b[1;33m.\u001b[0m\u001b[0malgorithms\u001b[0m\u001b[1;33m.\u001b[0m\u001b[0mcommunity\u001b[0m \u001b[1;32mas\u001b[0m \u001b[0mnx_comm\u001b[0m\u001b[1;33m\u001b[0m\u001b[1;33m\u001b[0m\u001b[0m\n",
      "\u001b[1;31mModuleNotFoundError\u001b[0m: No module named 'networkx'"
     ]
    }
   ],
   "source": [
    "import pandas as pd\n",
    "import matplotlib.pyplot as plt\n",
    "import networkx as nx\n",
    "import networkx.algorithms.community as nx_comm\n"
   ]
  },
  {
   "cell_type": "code",
   "execution_count": null,
   "id": "bbf8baec",
   "metadata": {},
   "outputs": [],
   "source": [
    "#load sythetic data into networkx graph\n",
    "def synthetic_to_graph(df):\n",
    "    #split into edge and node types\n",
    "    edge_pd = df[df['table_type']=='edge'].drop(columns=['table_type']).rename(columns={\"from_id\":\"source\",\"to_id\":\"target\"})\n",
    "    node_pd = df[df['table_type']!='edge'].drop(columns=['table_type'])\n",
    "    #get unique node and edge names\n",
    "    edge_tables = edge_pd['table'].unique()\n",
    "    node_tables = node_pd['table'].unique()\n",
    "    #start graph and add in all nodes\n",
    "    G = nx.Graph()\n",
    "    G.add_nodes_from(node_pd['guid'].tolist())\n",
    "    #add in edges with attributes \n",
    "    for i in edge_tables:\n",
    "        sub_df = edge_pd.loc[edge_pd['table']==i].dropna(axis=1, how='all')\n",
    "        H = nx.from_pandas_edgelist(sub_df, edge_attr=True)\n",
    "        G = nx.compose(G,H)\n",
    "    #add in node attributes \n",
    "    for i in node_tables:\n",
    "        sub_df = node_pd.loc[node_pd['table']==i].dropna(axis=1, how='all')\n",
    "        node_attr = sub_df.set_index('guid').to_dict('index')\n",
    "        nx.set_node_attributes(G, node_attr)\n",
    "    \n",
    "    return G"
   ]
  },
  {
   "cell_type": "code",
   "execution_count": 2,
   "id": "cc53d264",
   "metadata": {
    "ExecuteTime": {
     "end_time": "2023-02-23T22:25:30.662258Z",
     "start_time": "2023-02-23T22:25:28.671609Z"
    }
   },
   "outputs": [
    {
     "name": "stderr",
     "output_type": "stream",
     "text": [
      "c:\\users\\bhooper\\appdata\\local\\programs\\python\\python37\\lib\\site-packages\\IPython\\core\\interactiveshell.py:3553: DtypeWarning: Columns (0,2,3,4,5,6,10,11,12,18,19,22,23,24,25,26,27,28,29,30,31,32,33,34,35,36,37,38,39,41,42,45,46,47,49,50,51,52,53,54,55,56,57,58,59,61,62,64,67,68,69,70,73,74,75,76,77,79,80,81,82,83,84,85,86,87,88,89,90,91,92,93,94,95,96,97,98,99,100,101,102,103,110,114,116,117,118,120,122,123,125,126,127,128,130,131,138,139,140,142,143,144,145,147,148,152,153,154,155) have mixed types.Specify dtype option on import or set low_memory=False.\n",
      "  exec(code_obj, self.user_global_ns, self.user_ns)\n"
     ]
    },
    {
     "ename": "NameError",
     "evalue": "name 'synthetic_to_graph' is not defined",
     "output_type": "error",
     "traceback": [
      "\u001b[1;31m---------------------------------------------------------------------------\u001b[0m",
      "\u001b[1;31mNameError\u001b[0m                                 Traceback (most recent call last)",
      "\u001b[1;32m~\\AppData\\Local\\Temp\\ipykernel_43128\\731302215.py\u001b[0m in \u001b[0;36m<module>\u001b[1;34m\u001b[0m\n\u001b[0;32m      1\u001b[0m \u001b[0mdf\u001b[0m \u001b[1;33m=\u001b[0m \u001b[0mpd\u001b[0m\u001b[1;33m.\u001b[0m\u001b[0mread_csv\u001b[0m\u001b[1;33m(\u001b[0m\u001b[1;34m'test_graph_input.csv'\u001b[0m\u001b[1;33m)\u001b[0m\u001b[1;33m\u001b[0m\u001b[1;33m\u001b[0m\u001b[0m\n\u001b[1;32m----> 2\u001b[1;33m \u001b[0mG\u001b[0m \u001b[1;33m=\u001b[0m \u001b[0msynthetic_to_graph\u001b[0m\u001b[1;33m(\u001b[0m\u001b[0mdf\u001b[0m\u001b[1;33m)\u001b[0m\u001b[1;33m\u001b[0m\u001b[1;33m\u001b[0m\u001b[0m\n\u001b[0m",
      "\u001b[1;31mNameError\u001b[0m: name 'synthetic_to_graph' is not defined"
     ]
    }
   ],
   "source": [
    "df = pd.read_csv('test_graph_input.csv')\n",
    "G = synthetic_to_graph(df)"
   ]
  },
  {
   "cell_type": "code",
   "execution_count": null,
   "id": "63853730",
   "metadata": {},
   "outputs": [],
   "source": []
  }
 ],
 "metadata": {
  "kernelspec": {
   "display_name": "Python 3 (ipykernel)",
   "language": "python",
   "name": "python3"
  },
  "language_info": {
   "codemirror_mode": {
    "name": "ipython",
    "version": 3
   },
   "file_extension": ".py",
   "mimetype": "text/x-python",
   "name": "python",
   "nbconvert_exporter": "python",
   "pygments_lexer": "ipython3",
   "version": "3.7.8"
  },
  "toc": {
   "base_numbering": 1,
   "nav_menu": {},
   "number_sections": true,
   "sideBar": true,
   "skip_h1_title": false,
   "title_cell": "Table of Contents",
   "title_sidebar": "Contents",
   "toc_cell": true,
   "toc_position": {},
   "toc_section_display": true,
   "toc_window_display": false
  }
 },
 "nbformat": 4,
 "nbformat_minor": 5
}
