{
 "cells": [
  {
   "cell_type": "markdown",
   "id": "1e0108bd",
   "metadata": {
    "toc": true
   },
   "source": [
    "<h1>Table of Contents<span class=\"tocSkip\"></span></h1>\n",
    "<div class=\"toc\"><ul class=\"toc-item\"></ul></div>"
   ]
  },
  {
   "cell_type": "code",
   "execution_count": 1,
   "id": "86dc6d68",
   "metadata": {
    "ExecuteTime": {
     "end_time": "2023-02-24T00:12:58.860381Z",
     "start_time": "2023-02-24T00:12:55.937748Z"
    }
   },
   "outputs": [],
   "source": [
    "import pandas as pd\n",
    "import matplotlib.pyplot as plt\n",
    "import networkx as nx\n",
    "import networkx.algorithms.community as nx_comm"
   ]
  },
  {
   "cell_type": "code",
   "execution_count": 10,
   "id": "218de236",
   "metadata": {
    "ExecuteTime": {
     "end_time": "2023-02-24T00:51:58.113350Z",
     "start_time": "2023-02-24T00:51:57.515816Z"
    }
   },
   "outputs": [],
   "source": [
    "G = nx.read_gml('synthetic_mm.gml')"
   ]
  },
  {
   "cell_type": "code",
   "execution_count": 11,
   "id": "277a3837",
   "metadata": {
    "ExecuteTime": {
     "end_time": "2023-02-24T00:51:58.624163Z",
     "start_time": "2023-02-24T00:51:58.619289Z"
    }
   },
   "outputs": [
    {
     "data": {
      "text/plain": [
       "150"
      ]
     },
     "execution_count": 11,
     "metadata": {},
     "output_type": "execute_result"
    }
   ],
   "source": [
    "G.number_of_nodes()"
   ]
  },
  {
   "cell_type": "code",
   "execution_count": 12,
   "id": "7b76318c",
   "metadata": {
    "ExecuteTime": {
     "end_time": "2023-02-24T00:51:59.278549Z",
     "start_time": "2023-02-24T00:51:59.274655Z"
    }
   },
   "outputs": [
    {
     "data": {
      "text/plain": [
       "263"
      ]
     },
     "execution_count": 12,
     "metadata": {},
     "output_type": "execute_result"
    }
   ],
   "source": [
    "G.number_of_edges()"
   ]
  },
  {
   "cell_type": "code",
   "execution_count": 13,
   "id": "a2a47951",
   "metadata": {
    "ExecuteTime": {
     "end_time": "2023-02-24T00:52:27.153348Z",
     "start_time": "2023-02-24T00:52:27.147610Z"
    }
   },
   "outputs": [
    {
     "data": {
      "text/plain": [
       "['4cabfc8e-fd5d-3e3d-94f6-49f3eb39ed7f',\n",
       " '7bf69433-1dab-3543-b96d-e224379f5cfa',\n",
       " '15928ce5-2b09-316e-9162-5ec0a4b52f12',\n",
       " '12f56b23-d6e9-3c15-8a51-92a478f4523e',\n",
       " '49205104-164f-3873-af5e-d8151688ae31',\n",
       " '6b7ae965-1a4f-3fc9-89a2-31758087e9dc',\n",
       " '368ca0c7-befc-33bf-8855-32351323b909',\n",
       " '0da0851d-237c-35ea-87a9-aa41582d9d93',\n",
       " '8cf65b2a-d9ea-3ae6-be2e-fd78dea130bc',\n",
       " 'ba003c38-1144-3e28-9b79-14ce166a594e',\n",
       " 'b0339708-18f0-3402-9e4c-dd99a8e7309d',\n",
       " '2f5f1f04-f9eb-39fd-8246-ed3e4f7fe58b',\n",
       " '8aaba1d5-a00a-3234-9646-4f0feb44a4df',\n",
       " 'c52eac7a-c60e-3d25-8cf9-2e996e9d6d72',\n",
       " 'e04ed23d-643c-3dfe-8959-3e330600ad4d',\n",
       " '8877df45-b2fd-3aeb-834b-c12446004f41',\n",
       " '74dfd360-f3cb-370d-9e82-868be29a3ea1',\n",
       " '1913cc82-5a7f-3b7e-882e-d1ec644b613a',\n",
       " '6a695759-9660-3e00-90f3-9132618ae530',\n",
       " 'ee2f7175-a5df-349f-845a-c783638e6fd0',\n",
       " 'baf247ed-d207-39ee-83cc-7ad8d5c3cf8a',\n",
       " '7a8a5756-e00c-337a-b18e-c298ea460283',\n",
       " '8ff20366-c764-33af-88ca-9c8141d7eac8',\n",
       " 'ef23eece-8a66-30be-b1ce-79d45fe9eac0',\n",
       " '11467f1b-32e0-302a-9b77-823eee17a354',\n",
       " '58c427ae-48e8-3d4d-8bf4-c8cd92f2a7c4',\n",
       " '89e69adb-67fe-347c-94d0-f17cd08b8e7a',\n",
       " 'daf4a497-5e37-371f-92a3-984a8a31450b',\n",
       " 'f731582b-a944-3cbc-a7fe-75c15b8bd0ea',\n",
       " '38b22b76-63de-3bf7-a133-41ce823dec38',\n",
       " '747abf1b-9c02-3112-a311-66f4f9c1b72a',\n",
       " 'c4e92011-9ca9-3e4d-93fd-156c11476d92',\n",
       " 'fb8d4967-3fcf-3981-90f6-ab865f6edb5b',\n",
       " '668f2ee2-2f6a-37f1-8743-eb12e5d89917',\n",
       " 'dea0f49b-f4a5-34eb-a46e-d3d1918ed150',\n",
       " '74c6dbcb-e12b-3b47-8581-0195e6fb79da',\n",
       " '92a94e1a-a93d-3c4b-a3f2-be4cd060f993',\n",
       " 'd3c2901a-6ca2-3972-996c-edfbf6196fdf',\n",
       " '207d5678-9e2c-3119-81e1-5702ce0bc5db',\n",
       " 'ed0bd7cd-3be4-33b5-84a3-fc371900f952',\n",
       " '9e8e3410-351b-35a9-aa62-7c0174163172',\n",
       " '2328f2d1-4b03-3652-be73-5d02ee7d6449',\n",
       " '8be9bfb9-7f8b-394d-b9bb-0d40821d3a13',\n",
       " '9b85eea7-1df0-3cfc-bec6-061528d614a1',\n",
       " '22d6d632-1251-3063-a21e-0540787d4213',\n",
       " '658a8f49-27a4-3d31-897b-6ba42460e112',\n",
       " '7c3aba63-b0d1-3842-8bb9-3815921ff367',\n",
       " '5b4525cc-bae4-3f94-a999-81549169903d',\n",
       " '8b583fa0-e197-3133-a942-8d0dd738e739',\n",
       " '56896013-5a1e-3d74-b8a2-71f9cd2f7d1b',\n",
       " 'cf774c62-c401-3eba-af07-758e5431196a',\n",
       " '09e93e56-86f6-3685-bab5-aa69e386d23f',\n",
       " '15d2245c-e736-3395-ace3-ca17bc4125c4',\n",
       " '48aa8e3e-dc0c-36f8-9d7a-7546ba7cb4d2',\n",
       " 'b8c56aee-1123-3ece-a683-942aece2728e',\n",
       " 'a6802ed8-70c8-331d-b219-15877cd19814',\n",
       " 'e669d88a-0253-3716-8c03-f73cfb070067',\n",
       " '2376d208-f602-366c-b4f7-659bb944ef31',\n",
       " '50c6c12f-810e-3700-baef-55c1894d4cb5',\n",
       " '01417002-9cec-3334-9208-c7ffa70a479a',\n",
       " 'cddb5f32-d12c-3846-8720-c60712839f6b',\n",
       " '4a272602-9fa2-3a51-981d-017da99f2e0f',\n",
       " '03b89440-3dc5-3c6e-b54f-b5f80c6f9058',\n",
       " '38f45691-7d40-3a28-8e32-12e3670fd63c',\n",
       " '37850423-907e-311c-888e-bf23ae20226b',\n",
       " 'be543d18-996a-311f-967a-168be1477b89',\n",
       " '1e070820-7daa-3235-9ea9-3deb82856b40',\n",
       " '1cd5231d-07b0-3b28-9eea-ce0d1deecb09',\n",
       " '482da84e-cd5a-340f-8e6c-1ac08906c2fa',\n",
       " 'd166888f-a7a3-310a-b0f8-8bf615403f71',\n",
       " '061da31f-0a25-3ed3-bc75-32835f075468',\n",
       " '51b9fa78-ffeb-3684-93bc-29e9f0df0fe4',\n",
       " '0ab511d6-bb16-36bf-9181-2c2e10876997',\n",
       " 'a67b50e8-f36a-3b53-aa72-fce2fb0fd8a9',\n",
       " '436cfbe7-d2ec-3c5b-b0cc-e4ae89a8f89e',\n",
       " '49500c05-a452-3eda-8f44-e0f08a11ec69',\n",
       " '7e9639ac-ec8a-3755-9124-f1e37139e3c4',\n",
       " '016498f5-d8b0-3e94-8884-5e7ed34330f7',\n",
       " '7425a182-22ee-3d25-ace3-083f0a659a3e',\n",
       " '1acd6c00-70f1-343e-b480-2953bb3bbb29',\n",
       " 'f06523bd-be1f-34ba-943e-8a8ea060a738',\n",
       " '78c42efd-0c06-32bf-8b0b-0e4aeba45b04',\n",
       " '4c715296-ad6e-3210-bbb8-e59ff50625d0',\n",
       " 'c2d205f7-c9f1-3728-8315-acb2b88d61df',\n",
       " 'b8a67d07-ce6a-365f-a975-cd27434a53a6',\n",
       " '14a288ab-db6d-3ee7-951b-eab81037ac6c',\n",
       " '798a323f-d13f-38d6-9200-936083035188',\n",
       " 'd1a0eb51-2b40-353d-90fc-f4b0a33f1e38',\n",
       " '7cf0805d-c874-3fee-9928-0367da92e9d3',\n",
       " '55d9bf28-f4ab-356d-82b7-38813a6e638c',\n",
       " '1509d9eb-54f7-381c-85c9-613037e2af79',\n",
       " 'cfed6b75-d634-3303-bbfc-1a28a847333e',\n",
       " '54043e0b-4215-38c1-9181-493584dd4495',\n",
       " '772bc035-47ca-3105-b638-e91b509f3fb5',\n",
       " '78f32b5a-19d2-30cd-b322-6e46bc3fc3a8',\n",
       " 'c149059d-17df-3f77-89e6-60d5143bca55',\n",
       " '5ad3b98b-aa86-3deb-8c13-fe0836259a48',\n",
       " '723a6cfa-9427-3379-95b7-d320dcde6d14',\n",
       " '13e6bd52-a56c-32a4-8401-4386bb6b85ca',\n",
       " '0733524b-3f94-39af-846c-783805cd7166',\n",
       " '4c631c5c-735a-33d0-b1fd-f18bcb75f1bc',\n",
       " 'd5e2cea8-7cc4-3cd0-a864-aaa53854a88b',\n",
       " 'debbc92a-ec26-3496-9fb8-fd961a5ff0e0',\n",
       " 'a56c707f-78a3-3375-8eb8-d616c2c56bbc',\n",
       " '01f6c0f6-3498-374d-9b4e-0ad2464421fb',\n",
       " '9c9c5c23-45ba-33e1-87c0-30d29e4a679e',\n",
       " '84533d32-045b-3e41-9f86-ac0480d312ad',\n",
       " 'e7ce5576-bc0f-380c-aea4-bd31342148ad',\n",
       " '73c39209-7878-3774-9954-8b3dccc1b1a7',\n",
       " '661b4a69-fbc4-3de8-9436-9dda13e25e5d',\n",
       " '03f33509-be24-3bad-8729-7991264af8a2',\n",
       " '588e6d98-1c6c-38b0-acec-dfa61302d06f',\n",
       " 'df9d0887-346b-380f-a3c6-8766f81199eb',\n",
       " 'fb8c56fc-5b26-310d-8d91-8b43bb23b094',\n",
       " 'b60a53d5-f0e9-35a8-bee6-00029a6961f7',\n",
       " '21948b7f-0461-3dc9-8324-11bcb46d9f62',\n",
       " '66e1f0bc-0933-32c2-86ed-6e3ef02458e5',\n",
       " '2d26c215-66bf-397c-94bb-1c69f523b1bb',\n",
       " '2f061ab9-6c35-3c27-9b37-77e016652093',\n",
       " '25b4cec6-e69a-30e5-acce-d0a0e1ae2370',\n",
       " '29fa2c0b-c106-3859-82fd-3ace0914d5a4',\n",
       " 'e4d26188-9394-3de8-b20d-eb7476cb58fa',\n",
       " 'b62bb7a9-3592-3db7-8420-160e23718e57',\n",
       " 'fcc23ec4-0911-3db9-b8c8-906c242e693d',\n",
       " '58978cdd-aaaf-30c3-8325-078def7f0fdd',\n",
       " '7f747bd0-350f-3b39-9ce2-9f7a91d186bd',\n",
       " '400af436-6087-38a5-a6c8-ca0c9adc5e46',\n",
       " '0358e5f9-12fb-34cf-9615-fe4e84a0c5d3',\n",
       " 'dd9b4667-da9c-35aa-8456-c4b2d23b18cd',\n",
       " '4f7ad64d-70fd-348f-9769-bf1ac12ac874',\n",
       " '053fa3ad-c9d8-3eac-9c11-f59894ac0d25',\n",
       " '6662ce13-2414-302e-b04b-9000220ac2b9',\n",
       " '967df021-9e5f-3cbd-9e3e-008adde2aff1',\n",
       " '66e24e70-3e91-3292-8317-2919e080a69c',\n",
       " 'bffbe4fd-d212-3bee-baf5-5458d912c086',\n",
       " '506a5cc7-3cbb-3269-82b1-5043d446084b',\n",
       " 'aa847d53-276c-357f-8ec1-96b8e3aecd86',\n",
       " '10e363e2-b72d-3ecb-a987-0149e562bb6c',\n",
       " 'b2aeff90-82f9-3c2e-afa7-64312b09d2ad',\n",
       " '4c553470-352a-3f11-8e47-d05b02a2180c',\n",
       " '9fb02f5e-9242-3761-a9a8-fa330328e65e',\n",
       " 'b58f50b1-cd7d-38e9-9040-c6b5cbeb723e',\n",
       " 'fbda47e5-4a0e-3fd9-b5d2-1d7ceba66ff2',\n",
       " 'c274498c-2104-3d92-a8b3-d06020154122',\n",
       " '93014d12-f242-3f5d-b98d-c75316f67110',\n",
       " 'af952451-a243-3cee-a7d7-ddc16c6edf93',\n",
       " 'ea2db2e8-fd87-34d3-b2f6-d9545a316af4',\n",
       " '57f27019-9799-3cd6-946e-d691fce996ae',\n",
       " 'c8e9cd79-26f8-396a-aadf-d0fb77b1c176',\n",
       " '2c81eaa5-8919-3f06-852f-50e9b0aec6b9']"
      ]
     },
     "execution_count": 13,
     "metadata": {},
     "output_type": "execute_result"
    }
   ],
   "source": [
    "list(G.nodes)"
   ]
  },
  {
   "cell_type": "code",
   "execution_count": 18,
   "id": "1743aa30",
   "metadata": {
    "ExecuteTime": {
     "end_time": "2023-02-24T00:54:40.011370Z",
     "start_time": "2023-02-24T00:54:40.007038Z"
    }
   },
   "outputs": [
    {
     "data": {
      "text/plain": [
       "['fb8d4967-3fcf-3981-90f6-ab865f6edb5b',\n",
       " '22d6d632-1251-3063-a21e-0540787d4213',\n",
       " 'ba003c38-1144-3e28-9b79-14ce166a594e',\n",
       " '7bf69433-1dab-3543-b96d-e224379f5cfa',\n",
       " 'e04ed23d-643c-3dfe-8959-3e330600ad4d',\n",
       " '6a695759-9660-3e00-90f3-9132618ae530']"
      ]
     },
     "execution_count": 18,
     "metadata": {},
     "output_type": "execute_result"
    }
   ],
   "source": [
    "list(G.neighbors('4cabfc8e-fd5d-3e3d-94f6-49f3eb39ed7f'))"
   ]
  },
  {
   "cell_type": "code",
   "execution_count": 22,
   "id": "f65efffb",
   "metadata": {
    "ExecuteTime": {
     "end_time": "2023-02-24T00:58:11.260487Z",
     "start_time": "2023-02-24T00:58:11.253231Z"
    }
   },
   "outputs": [
    {
     "data": {
      "text/plain": [
       "{'address': 'nan',\n",
       " 'table': 'cryptocurrency_cluster',\n",
       " 'asset': 'TIT',\n",
       " 'root_address': 'icnQnMgKOTxg8G7PR91lLcDVPrn25QSSH68',\n",
       " 'raw_source': 'ca',\n",
       " 'category': 'darknet market',\n",
       " 'deposits': '127791484.0',\n",
       " 'fees': '36.0',\n",
       " 'fees_usd': '42.0',\n",
       " 'first_activity': '2009-02-12',\n",
       " 'last_activity': '2002-01-12',\n",
       " 'name': 'Keith Paul',\n",
       " 'received': '799163172.0',\n",
       " 'received_usd': '332520170.0',\n",
       " 'sent': '804030672.0',\n",
       " 'sent_usd': '452639582.0',\n",
       " 'withdrawals': '498522186.0',\n",
       " 'city': 'nan',\n",
       " 'country': 'nan',\n",
       " 'latitude': 'nan',\n",
       " 'longitude': 'nan',\n",
       " 'geo_coordinates': 'nan',\n",
       " 'ip_address': 'nan',\n",
       " 'anonymous': 'nan',\n",
       " 'isp': 'nan',\n",
       " 'text': 'nan',\n",
       " 'url': 'nan',\n",
       " 'party_type': 'nan',\n",
       " 'citizenship': 'nan',\n",
       " 'nationality': 'nan',\n",
       " 'gender': 'nan',\n",
       " 'date_of_birth': 'NaT',\n",
       " 'address_type': 'nan',\n",
       " 'full_address': 'nan',\n",
       " 'party_address_type': 'nan',\n",
       " 'state': 'nan',\n",
       " 'street_address1': 'nan',\n",
       " 'stree_address2': 'nan',\n",
       " 'zip_code': 'nan',\n",
       " 'electronic_address': 'nan',\n",
       " 'electronic_address_type': 'nan',\n",
       " 'issuer_country_id': 'nan',\n",
       " 'issuer_state_id': 'nan',\n",
       " 'other_issuer_country': 'nan',\n",
       " 'other_issuer_state': 'nan',\n",
       " 'other_party_identification_type': 'nan',\n",
       " 'party_identification_number': 'nan',\n",
       " 'party_identification_type': 'nan',\n",
       " 'entity_individual_last_name': 'nan',\n",
       " 'individual_first_name': 'nan',\n",
       " 'individual_middle_name': 'nan',\n",
       " 'individual_name_suffix': 'nan',\n",
       " 'individual_title': 'nan',\n",
       " 'input_pattern': 'nan',\n",
       " 'party_full_name': 'nan',\n",
       " 'party_name_type': 'nan',\n",
       " 'translated_name': 'nan',\n",
       " 'language': 'nan',\n",
       " 'phone_number_extension': 'nan',\n",
       " 'phone_number': 'nan',\n",
       " 'phone_number_type': 'nan',\n",
       " 'account_number': 'nan',\n",
       " 'account_type': 'nan',\n",
       " 'account_maximum_value_amount': 'nan',\n",
       " 'joint_owner_quantity': 'nan',\n",
       " 'action_type_code': 'nan',\n",
       " 'activity_name': 'nan',\n",
       " 'activity_type': 'nan',\n",
       " 'approval_official_signature_date': 'NaT',\n",
       " 'bsaid': 'nan',\n",
       " 'e_filing_prior_document_number': 'nan',\n",
       " 'filing_entry_date': 'NaT',\n",
       " 'filing_received_date': 'NaT',\n",
       " 'form_description': 'nan',\n",
       " 'input_format_type': 'nan',\n",
       " 'master_activity_id': 'nan',\n",
       " 'delivery_city': 'nan',\n",
       " 'destination_city': 'nan',\n",
       " 'discharge_port_city': 'nan',\n",
       " 'in_gate_city': 'nan',\n",
       " 'load_port_city': 'nan',\n",
       " 'other_port_1_city': 'nan',\n",
       " 'other_port_2_city': 'nan',\n",
       " 'other_port_3_city': 'nan',\n",
       " 'out_gate_city': 'nan',\n",
       " 'place_of_receipt_city': 'nan',\n",
       " 'delivery_country': 'nan',\n",
       " 'destination_country': 'nan',\n",
       " 'discharge_port_country': 'nan',\n",
       " 'from_country': 'nan',\n",
       " 'in_gate_country': 'nan',\n",
       " 'load_port_country': 'nan',\n",
       " 'other_port_1_country': 'nan',\n",
       " 'other_port_2_country': 'nan',\n",
       " 'other_port_3_country': 'nan',\n",
       " 'out_gate_country': 'nan',\n",
       " 'place_of_receipt_country': 'nan',\n",
       " 'to_country': 'nan',\n",
       " 'delivery_lrt_cd': 'nan',\n",
       " 'destination_lrt_cd': 'nan',\n",
       " 'discharge_port_lrt_cd': 'nan',\n",
       " 'in_gate_lrt_cd': 'nan',\n",
       " 'load_port_lrt_cd': 'nan',\n",
       " 'other_port_1_lrt_cd': 'nan',\n",
       " 'other_port_2_lrt_cd': 'nan',\n",
       " 'other_port_3_lrt_cd': 'nan',\n",
       " 'out_gate_lrt_cd': 'nan',\n",
       " 'place_of_receipt_lrt_cd': 'nan',\n",
       " 'delivery_raw_info': 'nan',\n",
       " 'destination_raw_info': 'nan',\n",
       " 'discharge_port_raw_info': 'nan',\n",
       " 'in_gate_raw_info': 'nan',\n",
       " 'load_port_raw_info': 'nan',\n",
       " 'other_port_1_raw_info': 'nan',\n",
       " 'other_port_2_raw_info': 'nan',\n",
       " 'other_port_3_raw_info': 'nan',\n",
       " 'out_gate_raw_info': 'nan',\n",
       " 'place_of_receipt_raw_info': 'nan',\n",
       " 'record_id': 'nan',\n",
       " 'bill_of_lading': 'nan',\n",
       " 'cargo_description': 'nan',\n",
       " 'cargo_volume': 'nan',\n",
       " 'carrier': 'nan',\n",
       " 'cdda1': 'nan',\n",
       " 'cdda2': 'nan',\n",
       " 'cdda3': 'nan',\n",
       " 'container_number': 'nan',\n",
       " 'hazmat_class': 'nan',\n",
       " 'hazmat_code': 'nan',\n",
       " 'seal_number': 'nan',\n",
       " 'short_shipped': 'nan',\n",
       " 'tare_weight': 'nan',\n",
       " 'temp_controlled': 'nan',\n",
       " 'weight_1': 'nan',\n",
       " 'weight_2': 'nan',\n",
       " 'call_sign': 'nan',\n",
       " 'code': 'nan',\n",
       " 'flag': 'nan',\n",
       " 'imo_number': 'nan',\n",
       " 'vessel_owner': 'nan',\n",
       " 'from_id': 'nan',\n",
       " 'to_id': 'nan',\n",
       " 'port': 'nan',\n",
       " 'subversion': 'nan',\n",
       " 'observation_time': 'nan',\n",
       " 'height': 'nan',\n",
       " 'value_in': 'nan',\n",
       " 'value_out': 'nan'}"
      ]
     },
     "execution_count": 22,
     "metadata": {},
     "output_type": "execute_result"
    }
   ],
   "source": [
    "G.nodes['e04ed23d-643c-3dfe-8959-3e330600ad4d']"
   ]
  },
  {
   "cell_type": "code",
   "execution_count": 19,
   "id": "be6b3e7d",
   "metadata": {
    "ExecuteTime": {
     "end_time": "2023-02-24T00:55:03.384441Z",
     "start_time": "2023-02-24T00:55:03.145002Z"
    }
   },
   "outputs": [
    {
     "data": {
      "image/png": "[encoded data removed]",
      "text/plain": [
       "<Figure size 640x480 with 1 Axes>"
      ]
     },
     "metadata": {},
     "output_type": "display_data"
    }
   ],
   "source": [
    "nx.draw(G)"
   ]
  },
  {
   "cell_type": "code",
   "execution_count": 23,
   "id": "52d0cfd3",
   "metadata": {
    "ExecuteTime": {
     "end_time": "2023-02-24T01:00:03.787846Z",
     "start_time": "2023-02-24T01:00:03.782315Z"
    }
   },
   "outputs": [
    {
     "data": {
      "text/plain": [
       "('09e93e56-86f6-3685-bab5-aa69e386d23f', 16)"
      ]
     },
     "execution_count": 23,
     "metadata": {},
     "output_type": "execute_result"
    }
   ],
   "source": [
    "max(dict(G.degree()).items(), key = lambda x : x[1])"
   ]
  },
  {
   "cell_type": "code",
   "execution_count": 26,
   "id": "3d39965b",
   "metadata": {
    "ExecuteTime": {
     "end_time": "2023-02-24T01:01:37.913330Z",
     "start_time": "2023-02-24T01:01:37.908938Z"
    }
   },
   "outputs": [
    {
     "data": {
      "text/plain": [
       "['e04ed23d-643c-3dfe-8959-3e330600ad4d']"
      ]
     },
     "execution_count": 26,
     "metadata": {},
     "output_type": "execute_result"
    }
   ],
   "source": [
    "nodesresult = [x for x,y in G.nodes(data=True) if y['name']=='Keith Paul']\n",
    "nodesresult"
   ]
  },
  {
   "cell_type": "code",
   "execution_count": null,
   "id": "f7297a62",
   "metadata": {},
   "outputs": [],
   "source": []
  }
 ],
 "metadata": {
  "kernelspec": {
   "display_name": "Python 3 (ipykernel)",
   "language": "python",
   "name": "python3"
  },
  "language_info": {
   "codemirror_mode": {
    "name": "ipython",
    "version": 3
   },
   "file_extension": ".py",
   "mimetype": "text/x-python",
   "name": "python",
   "nbconvert_exporter": "python",
   "pygments_lexer": "ipython3",
   "version": "3.11.0"
  },
  "toc": {
   "base_numbering": 1,
   "nav_menu": {},
   "number_sections": true,
   "sideBar": true,
   "skip_h1_title": false,
   "title_cell": "Table of Contents",
   "title_sidebar": "Contents",
   "toc_cell": true,
   "toc_position": {},
   "toc_section_display": true,
   "toc_window_display": false
  }
 },
 "nbformat": 4,
 "nbformat_minor": 5
}
